{
 "cells": [
  {
   "cell_type": "code",
   "execution_count": 2,
   "metadata": {},
   "outputs": [],
   "source": [
    "import pandas as pd\n",
    "from pathlib import Path\n",
    "import sys\n",
    "import datetime\n",
    "import pandas as pd\n",
    "import time\n",
    "\n",
    "\n",
    "# This is sloppy, but I don't know how to fix it yet.\n",
    "# This just needs to be the path to the folder where the scraping code package is stored in. \n",
    "sys.path.append(r'C:\\Users\\User\\OneDrive\\Desktop\\Code\\msba_edgar')\n",
    "from ut_msba_edgar_scraper import Downloader"
   ]
  },
  {
   "cell_type": "code",
   "execution_count": 3,
   "metadata": {},
   "outputs": [],
   "source": [
    "# This block is here to get info on the universe of stocks we are going to scrape\n",
    "stock_df = pd.read_csv('scraping_universe.csv') # pd.read_csv('scraper/company_data.csv')\n",
    "stock_df['datadate'] = pd.to_datetime(stock_df['datadate'])\n",
    "stock_df = stock_df[stock_df.datadate >='2000-01-01']\n",
    "stock_df = stock_df.dropna()\n",
    "stock_df['gvkey'] = stock_df['gvkey'].astype(str) \n",
    "stock_df['cik'] = stock_df['cik'].astype(int).astype(str)\n",
    "\n",
    "gvkeys = list(stock_df.gvkey.unique())[:20]"
   ]
  },
  {
   "cell_type": "code",
   "execution_count": 12,
   "metadata": {},
   "outputs": [
    {
     "name": "stdout",
     "output_type": "stream",
     "text": [
      "2020-02-29 00:00:00\n",
      "[0000001750_2000-08-31_10-Q, 0000001750_2000-11-30_10-Q, 0000001750_2001-02-28_10-Q, 0000001750_2001-08-31_10-Q, 0000001750_2001-11-30_10-Q, 0000001750_2002-02-28_10-Q, 0000001750_2002-08-31_10-Q, 0000001750_2002-11-30_10-Q, 0000001750_2003-02-28_10-Q, 0000001750_2003-08-31_10-Q, 0000001750_2003-11-30_10-Q, 0000001750_2004-02-29_10-Q, 0000001750_2004-08-31_10-Q, 0000001750_2004-11-30_10-Q, 0000001750_2005-02-28_10-Q, 0000001750_2005-08-31_10-Q, 0000001750_2005-11-30_10-Q, 0000001750_2006-02-28_10-Q, 0000001750_2006-08-31_10-Q, 0000001750_2006-11-30_10-Q, 0000001750_2007-02-28_10-Q, 0000001750_2007-08-31_10-Q, 0000001750_2007-11-30_10-Q, 0000001750_2008-02-29_10-Q, 0000001750_2008-08-31_10-Q, 0000001750_2008-11-30_10-Q, 0000001750_2009-02-28_10-Q, 0000001750_2009-08-31_10-Q, 0000001750_2009-11-30_10-Q, 0000001750_2010-02-28_10-Q, 0000001750_2010-08-31_10-Q, 0000001750_2010-11-30_10-Q, 0000001750_2011-02-28_10-Q, 0000001750_2011-08-31_10-Q, 0000001750_2011-11-30_10-Q, 0000001750_2012-02-29_10-Q, 0000001750_2012-08-31_10-Q, 0000001750_2012-11-30_10-Q, 0000001750_2013-02-28_10-Q, 0000001750_2013-08-31_10-Q, 0000001750_2013-11-30_10-Q, 0000001750_2014-02-28_10-Q, 0000001750_2014-08-31_10-Q, 0000001750_2014-11-30_10-Q, 0000001750_2015-02-28_10-Q, 0000001750_2015-08-31_10-Q, 0000001750_2015-11-30_10-Q, 0000001750_2016-02-29_10-Q, 0000001750_2016-08-31_10-Q, 0000001750_2016-11-30_10-Q, 0000001750_2017-02-28_10-Q, 0000001750_2017-08-31_10-Q, 0000001750_2017-11-30_10-Q, 0000001750_2018-02-28_10-Q, 0000001750_2018-08-31_10-Q, 0000001750_2018-11-30_10-Q, 0000001750_2019-02-28_10-Q, 0000001750_2019-08-31_10-Q, 0000001750_2019-11-30_10-Q, 0000001750_2020-02-29_10-Q]\n",
      "haha\n"
     ]
    }
   ],
   "source": [
    "downloader = Downloader()\n",
    "\n",
    "log_dict: dict = {'ticker':[],'cik':[],'filing_type':[],'period_end':[],'file_name':[],'url':[],'success':[]}\n",
    "failed_lookups = []\n",
    "\n",
    "\n",
    "gvkey = gvkeys[0]\n",
    "\n",
    "\n",
    "reports = downloader.get_filings('10-Q',gvkey, before='2020-07-15', is_gvkey=True)\n",
    "\n",
    "# Grab the most recent report\n",
    "most_recent_report = reports[-1]\n",
    "print(most_recent_report.data_date)\n",
    "# Raw is the html stuff\n",
    "# raw = most_recent_report.get_report()\n",
    "\n",
    "print(reports)\n",
    "\n",
    "\n",
    "print('haha')\n"
   ]
  },
  {
   "cell_type": "code",
   "execution_count": 13,
   "metadata": {},
   "outputs": [
    {
     "data": {
      "text/plain": [
       "'https://www.sec.gov/Archives/edgar/data/0000001750/000110465920037857/air-20200229x10q193a24.htm'"
      ]
     },
     "execution_count": 13,
     "metadata": {},
     "output_type": "execute_result"
    }
   ],
   "source": [
    "most_recent_report.filing_details_url"
   ]
  }
 ],
 "metadata": {
  "interpreter": {
   "hash": "2647ea34e536f865ab67ff9ddee7fd78773d956cec0cab53c79b32cd10da5d83"
  },
  "kernelspec": {
   "display_name": "Python 3.9.5 64-bit",
   "language": "python",
   "name": "python3"
  },
  "language_info": {
   "codemirror_mode": {
    "name": "ipython",
    "version": 3
   },
   "file_extension": ".py",
   "mimetype": "text/x-python",
   "name": "python",
   "nbconvert_exporter": "python",
   "pygments_lexer": "ipython3",
   "version": "3.9.5"
  },
  "orig_nbformat": 4
 },
 "nbformat": 4,
 "nbformat_minor": 2
}
