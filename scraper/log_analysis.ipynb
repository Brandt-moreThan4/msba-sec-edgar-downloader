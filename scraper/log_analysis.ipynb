{
 "cells": [
  {
   "cell_type": "code",
   "execution_count": 1,
   "metadata": {},
   "outputs": [],
   "source": [
    "import pandas as pd\n",
    "from pathlib import Path\n",
    "import sys\n",
    "\n",
    "import pandas as pd\n",
    "\n",
    "sys.path.append(r'C:\\Users\\User\\OneDrive\\Desktop\\Code\\msba_edgar')\n",
    "from ut_msba_edgar_scraper import Downloader\n",
    "from ut_msba_edgar_scraper.msba_utils import get_ratings_df, stock_mapping_df\n",
    "ratings_df = get_ratings_df() # this is our scraping universe"
   ]
  },
  {
   "cell_type": "code",
   "execution_count": 4,
   "metadata": {},
   "outputs": [
    {
     "data": {
      "text/plain": [
       "(95420, 16)"
      ]
     },
     "execution_count": 4,
     "metadata": {},
     "output_type": "execute_result"
    }
   ],
   "source": [
    "def read_master_log():\n",
    "    df = pd.read_csv('logs/master_log.csv')\n",
    "    df['gvkey'] = df['gvkey'].astype(str)\n",
    "    return df.iloc[:,1:].copy()\n",
    "\n",
    "df_master_log = read_master_log()\n",
    "df_successes = df_master_log[df_master_log.success == True]\n",
    "df_successes.shape"
   ]
  },
  {
   "cell_type": "code",
   "execution_count": 2,
   "metadata": {},
   "outputs": [
    {
     "data": {
      "text/html": [
       "<div>\n",
       "<style scoped>\n",
       "    .dataframe tbody tr th:only-of-type {\n",
       "        vertical-align: middle;\n",
       "    }\n",
       "\n",
       "    .dataframe tbody tr th {\n",
       "        vertical-align: top;\n",
       "    }\n",
       "\n",
       "    .dataframe thead th {\n",
       "        text-align: right;\n",
       "    }\n",
       "</style>\n",
       "<table border=\"1\" class=\"dataframe\">\n",
       "  <thead>\n",
       "    <tr style=\"text-align: right;\">\n",
       "      <th></th>\n",
       "      <th>gvkey</th>\n",
       "      <th>splticrm</th>\n",
       "      <th>datadate</th>\n",
       "      <th>cik</th>\n",
       "      <th>fic</th>\n",
       "      <th>gsector</th>\n",
       "      <th>loc</th>\n",
       "      <th>tic</th>\n",
       "      <th>Year</th>\n",
       "      <th>Sub_IG</th>\n",
       "      <th>Sub_IG_p</th>\n",
       "      <th>splticrm_p</th>\n",
       "      <th>Fallen</th>\n",
       "    </tr>\n",
       "  </thead>\n",
       "  <tbody>\n",
       "    <tr>\n",
       "      <th>0</th>\n",
       "      <td>1004</td>\n",
       "      <td>BB-</td>\n",
       "      <td>2003-04-30</td>\n",
       "      <td>1750.0</td>\n",
       "      <td>USA</td>\n",
       "      <td>20.0</td>\n",
       "      <td>USA</td>\n",
       "      <td>AIR</td>\n",
       "      <td>2003</td>\n",
       "      <td>1.0</td>\n",
       "      <td>0.0</td>\n",
       "      <td>BBB-</td>\n",
       "      <td>1.0</td>\n",
       "    </tr>\n",
       "    <tr>\n",
       "      <th>1</th>\n",
       "      <td>1045</td>\n",
       "      <td>BB</td>\n",
       "      <td>2001-09-30</td>\n",
       "      <td>6201.0</td>\n",
       "      <td>USA</td>\n",
       "      <td>20.0</td>\n",
       "      <td>USA</td>\n",
       "      <td>AAL</td>\n",
       "      <td>2001</td>\n",
       "      <td>1.0</td>\n",
       "      <td>0.0</td>\n",
       "      <td>BBB-</td>\n",
       "      <td>1.0</td>\n",
       "    </tr>\n",
       "    <tr>\n",
       "      <th>2</th>\n",
       "      <td>1048</td>\n",
       "      <td>BB</td>\n",
       "      <td>2002-12-31</td>\n",
       "      <td>65695.0</td>\n",
       "      <td>USA</td>\n",
       "      <td>10.0</td>\n",
       "      <td>USA</td>\n",
       "      <td>4267A</td>\n",
       "      <td>2002</td>\n",
       "      <td>1.0</td>\n",
       "      <td>0.0</td>\n",
       "      <td>BBB</td>\n",
       "      <td>1.0</td>\n",
       "    </tr>\n",
       "    <tr>\n",
       "      <th>3</th>\n",
       "      <td>1164</td>\n",
       "      <td>BB</td>\n",
       "      <td>2002-05-31</td>\n",
       "      <td>723527.0</td>\n",
       "      <td>USA</td>\n",
       "      <td>50.0</td>\n",
       "      <td>USA</td>\n",
       "      <td>MCIP</td>\n",
       "      <td>2002</td>\n",
       "      <td>1.0</td>\n",
       "      <td>0.0</td>\n",
       "      <td>BBB</td>\n",
       "      <td>1.0</td>\n",
       "    </tr>\n",
       "    <tr>\n",
       "      <th>4</th>\n",
       "      <td>1230</td>\n",
       "      <td>BB+</td>\n",
       "      <td>2016-12-31</td>\n",
       "      <td>766421.0</td>\n",
       "      <td>USA</td>\n",
       "      <td>20.0</td>\n",
       "      <td>USA</td>\n",
       "      <td>ALK</td>\n",
       "      <td>2016</td>\n",
       "      <td>1.0</td>\n",
       "      <td>0.0</td>\n",
       "      <td>BBB-</td>\n",
       "      <td>1.0</td>\n",
       "    </tr>\n",
       "    <tr>\n",
       "      <th>...</th>\n",
       "      <td>...</td>\n",
       "      <td>...</td>\n",
       "      <td>...</td>\n",
       "      <td>...</td>\n",
       "      <td>...</td>\n",
       "      <td>...</td>\n",
       "      <td>...</td>\n",
       "      <td>...</td>\n",
       "      <td>...</td>\n",
       "      <td>...</td>\n",
       "      <td>...</td>\n",
       "      <td>...</td>\n",
       "      <td>...</td>\n",
       "    </tr>\n",
       "    <tr>\n",
       "      <th>424</th>\n",
       "      <td>174022</td>\n",
       "      <td>BB+</td>\n",
       "      <td>2006-12-31</td>\n",
       "      <td>1398987.0</td>\n",
       "      <td>USA</td>\n",
       "      <td>60.0</td>\n",
       "      <td>USA</td>\n",
       "      <td>RLGY</td>\n",
       "      <td>2006</td>\n",
       "      <td>1.0</td>\n",
       "      <td>0.0</td>\n",
       "      <td>BBB</td>\n",
       "      <td>1.0</td>\n",
       "    </tr>\n",
       "    <tr>\n",
       "      <th>425</th>\n",
       "      <td>176928</td>\n",
       "      <td>BB</td>\n",
       "      <td>2008-04-30</td>\n",
       "      <td>1383312.0</td>\n",
       "      <td>USA</td>\n",
       "      <td>45.0</td>\n",
       "      <td>USA</td>\n",
       "      <td>BR</td>\n",
       "      <td>2008</td>\n",
       "      <td>1.0</td>\n",
       "      <td>0.0</td>\n",
       "      <td>BBB-</td>\n",
       "      <td>1.0</td>\n",
       "    </tr>\n",
       "    <tr>\n",
       "      <th>426</th>\n",
       "      <td>177745</td>\n",
       "      <td>D</td>\n",
       "      <td>2011-10-31</td>\n",
       "      <td>1401106.0</td>\n",
       "      <td>USA</td>\n",
       "      <td>40.0</td>\n",
       "      <td>USA</td>\n",
       "      <td>MFGLQ</td>\n",
       "      <td>2011</td>\n",
       "      <td>1.0</td>\n",
       "      <td>0.0</td>\n",
       "      <td>BBB-</td>\n",
       "      <td>1.0</td>\n",
       "    </tr>\n",
       "    <tr>\n",
       "      <th>427</th>\n",
       "      <td>178814</td>\n",
       "      <td>BB+</td>\n",
       "      <td>2017-01-31</td>\n",
       "      <td>1403256.0</td>\n",
       "      <td>USA</td>\n",
       "      <td>40.0</td>\n",
       "      <td>USA</td>\n",
       "      <td>SCU</td>\n",
       "      <td>2017</td>\n",
       "      <td>1.0</td>\n",
       "      <td>0.0</td>\n",
       "      <td>BBB-</td>\n",
       "      <td>1.0</td>\n",
       "    </tr>\n",
       "    <tr>\n",
       "      <th>428</th>\n",
       "      <td>186783</td>\n",
       "      <td>BB</td>\n",
       "      <td>2014-12-31</td>\n",
       "      <td>1507385.0</td>\n",
       "      <td>USA</td>\n",
       "      <td>60.0</td>\n",
       "      <td>USA</td>\n",
       "      <td>VER</td>\n",
       "      <td>2014</td>\n",
       "      <td>1.0</td>\n",
       "      <td>0.0</td>\n",
       "      <td>BBB-</td>\n",
       "      <td>1.0</td>\n",
       "    </tr>\n",
       "  </tbody>\n",
       "</table>\n",
       "<p>429 rows × 13 columns</p>\n",
       "</div>"
      ],
      "text/plain": [
       "      gvkey splticrm    datadate        cik  fic  gsector  loc    tic  Year  \\\n",
       "0      1004      BB-  2003-04-30     1750.0  USA     20.0  USA    AIR  2003   \n",
       "1      1045       BB  2001-09-30     6201.0  USA     20.0  USA    AAL  2001   \n",
       "2      1048       BB  2002-12-31    65695.0  USA     10.0  USA  4267A  2002   \n",
       "3      1164       BB  2002-05-31   723527.0  USA     50.0  USA   MCIP  2002   \n",
       "4      1230      BB+  2016-12-31   766421.0  USA     20.0  USA    ALK  2016   \n",
       "..      ...      ...         ...        ...  ...      ...  ...    ...   ...   \n",
       "424  174022      BB+  2006-12-31  1398987.0  USA     60.0  USA   RLGY  2006   \n",
       "425  176928       BB  2008-04-30  1383312.0  USA     45.0  USA     BR  2008   \n",
       "426  177745        D  2011-10-31  1401106.0  USA     40.0  USA  MFGLQ  2011   \n",
       "427  178814      BB+  2017-01-31  1403256.0  USA     40.0  USA    SCU  2017   \n",
       "428  186783       BB  2014-12-31  1507385.0  USA     60.0  USA    VER  2014   \n",
       "\n",
       "     Sub_IG  Sub_IG_p splticrm_p  Fallen  \n",
       "0       1.0       0.0       BBB-     1.0  \n",
       "1       1.0       0.0       BBB-     1.0  \n",
       "2       1.0       0.0        BBB     1.0  \n",
       "3       1.0       0.0        BBB     1.0  \n",
       "4       1.0       0.0       BBB-     1.0  \n",
       "..      ...       ...        ...     ...  \n",
       "424     1.0       0.0        BBB     1.0  \n",
       "425     1.0       0.0       BBB-     1.0  \n",
       "426     1.0       0.0       BBB-     1.0  \n",
       "427     1.0       0.0       BBB-     1.0  \n",
       "428     1.0       0.0       BBB-     1.0  \n",
       "\n",
       "[429 rows x 13 columns]"
      ]
     },
     "execution_count": 2,
     "metadata": {},
     "output_type": "execute_result"
    }
   ],
   "source": [
    "df_angel = pd.read_csv('data/fallen.csv')\n",
    "df_angel"
   ]
  },
  {
   "cell_type": "code",
   "execution_count": 13,
   "metadata": {},
   "outputs": [],
   "source": [
    "angel_keys = df_angel.gvkey.unique().astype(str)\n",
    "truths = [key in df_successes.gvkey.values for key in angel_keys]\n",
    "sum(truths)"
   ]
  },
  {
   "cell_type": "code",
   "execution_count": 42,
   "metadata": {},
   "outputs": [
    {
     "data": {
      "text/plain": [
       "17259"
      ]
     },
     "execution_count": 42,
     "metadata": {},
     "output_type": "execute_result"
    }
   ],
   "source": [
    "stock_mapping_df.gvkey.nunique()"
   ]
  },
  {
   "cell_type": "code",
   "execution_count": 31,
   "metadata": {},
   "outputs": [
    {
     "name": "stdout",
     "output_type": "stream",
     "text": [
      "unique gvkeys = 3414\n"
     ]
    }
   ],
   "source": [
    "gvkeys = ratings_df['gvkey'].unique()\n",
    "print(f'unique gvkeys = {len(gvkeys)}')"
   ]
  },
  {
   "cell_type": "code",
   "execution_count": 28,
   "metadata": {},
   "outputs": [
    {
     "data": {
      "text/plain": [
       "False"
      ]
     },
     "execution_count": 28,
     "metadata": {},
     "output_type": "execute_result"
    }
   ],
   "source": [
    "gvkeys_ari = ['1661','154358']\n",
    "'1661' in  ratings_df.gvkey.values # This shows that it didn't show up because it wasn't in our universe"
   ]
  },
  {
   "cell_type": "code",
   "execution_count": 30,
   "metadata": {},
   "outputs": [],
   "source": [
    "# ratings_df[ratings_df.gvkey == '154358']"
   ]
  },
  {
   "cell_type": "code",
   "execution_count": 36,
   "metadata": {},
   "outputs": [
    {
     "data": {
      "text/plain": [
       "2106"
      ]
     },
     "execution_count": 36,
     "metadata": {},
     "output_type": "execute_result"
    }
   ],
   "source": [
    "df_successes.gvkey.nunique()"
   ]
  },
  {
   "cell_type": "code",
   "execution_count": 37,
   "metadata": {},
   "outputs": [
    {
     "data": {
      "text/plain": [
       "0.616871704745167"
      ]
     },
     "execution_count": 37,
     "metadata": {},
     "output_type": "execute_result"
    }
   ],
   "source": [
    "df_successes.gvkey.nunique()/len(gvkeys) # 62 % of universe"
   ]
  },
  {
   "cell_type": "code",
   "execution_count": 34,
   "metadata": {},
   "outputs": [
    {
     "data": {
      "text/plain": [
       "45.30864197530864"
      ]
     },
     "execution_count": 34,
     "metadata": {},
     "output_type": "execute_result"
    }
   ],
   "source": [
    "df_successes.groupby('gvkey').accession_number.nunique().mean()"
   ]
  },
  {
   "cell_type": "code",
   "execution_count": 35,
   "metadata": {},
   "outputs": [
    {
     "data": {
      "text/plain": [
       "41.0"
      ]
     },
     "execution_count": 35,
     "metadata": {},
     "output_type": "execute_result"
    }
   ],
   "source": [
    "df_successes.groupby('gvkey').accession_number.nunique().median()"
   ]
  },
  {
   "cell_type": "code",
   "execution_count": null,
   "metadata": {},
   "outputs": [],
   "source": []
  },
  {
   "cell_type": "code",
   "execution_count": null,
   "metadata": {},
   "outputs": [],
   "source": []
  },
  {
   "cell_type": "code",
   "execution_count": 38,
   "metadata": {},
   "outputs": [],
   "source": [
    "mapping_gvkeys = stock_mapping_df.gvkey.unique()\n",
    "mapping_ratings = ratings_df[ratings_df.gvkey.isin(mapping_gvkeys)]"
   ]
  },
  {
   "cell_type": "code",
   "execution_count": 40,
   "metadata": {},
   "outputs": [
    {
     "data": {
      "text/html": [
       "<div>\n",
       "<style scoped>\n",
       "    .dataframe tbody tr th:only-of-type {\n",
       "        vertical-align: middle;\n",
       "    }\n",
       "\n",
       "    .dataframe tbody tr th {\n",
       "        vertical-align: top;\n",
       "    }\n",
       "\n",
       "    .dataframe thead th {\n",
       "        text-align: right;\n",
       "    }\n",
       "</style>\n",
       "<table border=\"1\" class=\"dataframe\">\n",
       "  <thead>\n",
       "    <tr style=\"text-align: right;\">\n",
       "      <th></th>\n",
       "      <th>gvkey</th>\n",
       "      <th>splticrm</th>\n",
       "      <th>datadate</th>\n",
       "      <th>cik</th>\n",
       "      <th>fic</th>\n",
       "      <th>gsector</th>\n",
       "      <th>loc</th>\n",
       "      <th>tic</th>\n",
       "    </tr>\n",
       "  </thead>\n",
       "  <tbody>\n",
       "    <tr>\n",
       "      <th>0</th>\n",
       "      <td>1004</td>\n",
       "      <td>BBB</td>\n",
       "      <td>2000-01-31</td>\n",
       "      <td>1750</td>\n",
       "      <td>USA</td>\n",
       "      <td>20.0</td>\n",
       "      <td>USA</td>\n",
       "      <td>AIR</td>\n",
       "    </tr>\n",
       "    <tr>\n",
       "      <th>1</th>\n",
       "      <td>1004</td>\n",
       "      <td>BBB</td>\n",
       "      <td>2000-02-29</td>\n",
       "      <td>1750</td>\n",
       "      <td>USA</td>\n",
       "      <td>20.0</td>\n",
       "      <td>USA</td>\n",
       "      <td>AIR</td>\n",
       "    </tr>\n",
       "    <tr>\n",
       "      <th>2</th>\n",
       "      <td>1004</td>\n",
       "      <td>BBB</td>\n",
       "      <td>2000-03-31</td>\n",
       "      <td>1750</td>\n",
       "      <td>USA</td>\n",
       "      <td>20.0</td>\n",
       "      <td>USA</td>\n",
       "      <td>AIR</td>\n",
       "    </tr>\n",
       "    <tr>\n",
       "      <th>3</th>\n",
       "      <td>1004</td>\n",
       "      <td>BBB</td>\n",
       "      <td>2000-04-30</td>\n",
       "      <td>1750</td>\n",
       "      <td>USA</td>\n",
       "      <td>20.0</td>\n",
       "      <td>USA</td>\n",
       "      <td>AIR</td>\n",
       "    </tr>\n",
       "    <tr>\n",
       "      <th>4</th>\n",
       "      <td>1004</td>\n",
       "      <td>BBB</td>\n",
       "      <td>2000-05-31</td>\n",
       "      <td>1750</td>\n",
       "      <td>USA</td>\n",
       "      <td>20.0</td>\n",
       "      <td>USA</td>\n",
       "      <td>AIR</td>\n",
       "    </tr>\n",
       "    <tr>\n",
       "      <th>...</th>\n",
       "      <td>...</td>\n",
       "      <td>...</td>\n",
       "      <td>...</td>\n",
       "      <td>...</td>\n",
       "      <td>...</td>\n",
       "      <td>...</td>\n",
       "      <td>...</td>\n",
       "      <td>...</td>\n",
       "    </tr>\n",
       "    <tr>\n",
       "      <th>329181</th>\n",
       "      <td>311524</td>\n",
       "      <td>B+</td>\n",
       "      <td>2014-07-31</td>\n",
       "      <td>1547063</td>\n",
       "      <td>USA</td>\n",
       "      <td>15.0</td>\n",
       "      <td>USA</td>\n",
       "      <td>TAM</td>\n",
       "    </tr>\n",
       "    <tr>\n",
       "      <th>329182</th>\n",
       "      <td>311524</td>\n",
       "      <td>B+</td>\n",
       "      <td>2014-08-31</td>\n",
       "      <td>1547063</td>\n",
       "      <td>USA</td>\n",
       "      <td>15.0</td>\n",
       "      <td>USA</td>\n",
       "      <td>TAM</td>\n",
       "    </tr>\n",
       "    <tr>\n",
       "      <th>329183</th>\n",
       "      <td>311524</td>\n",
       "      <td>B+</td>\n",
       "      <td>2014-09-30</td>\n",
       "      <td>1547063</td>\n",
       "      <td>USA</td>\n",
       "      <td>15.0</td>\n",
       "      <td>USA</td>\n",
       "      <td>TAM</td>\n",
       "    </tr>\n",
       "    <tr>\n",
       "      <th>329184</th>\n",
       "      <td>311524</td>\n",
       "      <td>B+</td>\n",
       "      <td>2014-10-31</td>\n",
       "      <td>1547063</td>\n",
       "      <td>USA</td>\n",
       "      <td>15.0</td>\n",
       "      <td>USA</td>\n",
       "      <td>TAM</td>\n",
       "    </tr>\n",
       "    <tr>\n",
       "      <th>329185</th>\n",
       "      <td>311524</td>\n",
       "      <td>B+</td>\n",
       "      <td>2014-11-30</td>\n",
       "      <td>1547063</td>\n",
       "      <td>USA</td>\n",
       "      <td>15.0</td>\n",
       "      <td>USA</td>\n",
       "      <td>TAM</td>\n",
       "    </tr>\n",
       "  </tbody>\n",
       "</table>\n",
       "<p>328959 rows × 8 columns</p>\n",
       "</div>"
      ],
      "text/plain": [
       "         gvkey splticrm   datadate      cik  fic  gsector  loc  tic\n",
       "0         1004      BBB 2000-01-31     1750  USA     20.0  USA  AIR\n",
       "1         1004      BBB 2000-02-29     1750  USA     20.0  USA  AIR\n",
       "2         1004      BBB 2000-03-31     1750  USA     20.0  USA  AIR\n",
       "3         1004      BBB 2000-04-30     1750  USA     20.0  USA  AIR\n",
       "4         1004      BBB 2000-05-31     1750  USA     20.0  USA  AIR\n",
       "...        ...      ...        ...      ...  ...      ...  ...  ...\n",
       "329181  311524       B+ 2014-07-31  1547063  USA     15.0  USA  TAM\n",
       "329182  311524       B+ 2014-08-31  1547063  USA     15.0  USA  TAM\n",
       "329183  311524       B+ 2014-09-30  1547063  USA     15.0  USA  TAM\n",
       "329184  311524       B+ 2014-10-31  1547063  USA     15.0  USA  TAM\n",
       "329185  311524       B+ 2014-11-30  1547063  USA     15.0  USA  TAM\n",
       "\n",
       "[328959 rows x 8 columns]"
      ]
     },
     "execution_count": 40,
     "metadata": {},
     "output_type": "execute_result"
    }
   ],
   "source": [
    "mapping_ratings"
   ]
  },
  {
   "cell_type": "code",
   "execution_count": null,
   "metadata": {},
   "outputs": [],
   "source": []
  },
  {
   "cell_type": "code",
   "execution_count": 4,
   "metadata": {},
   "outputs": [],
   "source": [
    "# Combine with Compustat\n",
    "merged_df = df_master_log.merge(ratings_df.drop_duplicates(subset='gvkey'),on='gvkey')\n",
    "merged_df.shape"
   ]
  },
  {
   "cell_type": "code",
   "execution_count": 7,
   "metadata": {},
   "outputs": [],
   "source": [
    "sectors = merged_df.groupby('gsector')"
   ]
  },
  {
   "cell_type": "code",
   "execution_count": 8,
   "metadata": {},
   "outputs": [
    {
     "data": {
      "text/plain": [
       "gsector\n",
       "10.0    331\n",
       "15.0    243\n",
       "20.0    450\n",
       "25.0    630\n",
       "30.0    177\n",
       "35.0    263\n",
       "40.0    445\n",
       "45.0    301\n",
       "50.0    185\n",
       "55.0    280\n",
       "60.0    109\n",
       "Name: gvkey, dtype: int64"
      ]
     },
     "execution_count": 8,
     "metadata": {},
     "output_type": "execute_result"
    }
   ],
   "source": [
    "ratings_df.groupby('gsector').gvkey.nunique()"
   ]
  },
  {
   "cell_type": "code",
   "execution_count": 9,
   "metadata": {},
   "outputs": [
    {
     "data": {
      "text/plain": [
       "gsector\n",
       "10.0    206\n",
       "15.0    153\n",
       "20.0    303\n",
       "25.0    388\n",
       "30.0    104\n",
       "35.0    157\n",
       "40.0    240\n",
       "45.0    201\n",
       "50.0    132\n",
       "55.0    170\n",
       "60.0     62\n",
       "Name: gvkey, dtype: int64"
      ]
     },
     "execution_count": 9,
     "metadata": {},
     "output_type": "execute_result"
    }
   ],
   "source": [
    "sectors.gvkey.nunique()"
   ]
  },
  {
   "cell_type": "code",
   "execution_count": 10,
   "metadata": {},
   "outputs": [
    {
     "data": {
      "text/plain": [
       "gsector\n",
       "10.0    0.622356\n",
       "15.0    0.629630\n",
       "20.0    0.673333\n",
       "25.0    0.615873\n",
       "30.0    0.587571\n",
       "35.0    0.596958\n",
       "40.0    0.539326\n",
       "45.0    0.667774\n",
       "50.0    0.713514\n",
       "55.0    0.607143\n",
       "60.0    0.568807\n",
       "Name: gvkey, dtype: float64"
      ]
     },
     "execution_count": 10,
     "metadata": {},
     "output_type": "execute_result"
    }
   ],
   "source": [
    "(sectors.gvkey.nunique() / ratings_df.groupby('gsector').gvkey.nunique()) # Average is 62%"
   ]
  },
  {
   "cell_type": "code",
   "execution_count": 41,
   "metadata": {},
   "outputs": [],
   "source": [
    "# (sectors.gvkey.nunique() / ratings_df.groupby('gsector').gvkey.nunique()).plot(kind='bar')"
   ]
  },
  {
   "cell_type": "code",
   "execution_count": null,
   "metadata": {},
   "outputs": [],
   "source": []
  },
  {
   "cell_type": "code",
   "execution_count": null,
   "metadata": {},
   "outputs": [],
   "source": []
  }
 ],
 "metadata": {
  "interpreter": {
   "hash": "ae6205c1e8c8e8afa0818e52c169261e5b27703eb5b5e846a824bdf0e97d5a00"
  },
  "kernelspec": {
   "display_name": "Python 3.8.3 ('base')",
   "language": "python",
   "name": "python3"
  },
  "language_info": {
   "codemirror_mode": {
    "name": "ipython",
    "version": 3
   },
   "file_extension": ".py",
   "mimetype": "text/x-python",
   "name": "python",
   "nbconvert_exporter": "python",
   "pygments_lexer": "ipython3",
   "version": "3.9.5"
  },
  "orig_nbformat": 4
 },
 "nbformat": 4,
 "nbformat_minor": 2
}
