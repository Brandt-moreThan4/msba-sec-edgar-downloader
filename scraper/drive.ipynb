{
 "cells": [
  {
   "cell_type": "code",
   "execution_count": 13,
   "metadata": {},
   "outputs": [],
   "source": [
    "import pydrive\n",
    "import pandas as pd"
   ]
  },
  {
   "cell_type": "code",
   "execution_count": 2,
   "metadata": {},
   "outputs": [],
   "source": [
    "from pydrive.auth import GoogleAuth\n",
    "from pydrive.drive import GoogleDrive\n",
    "gauth = GoogleAuth()           \n",
    "drive = GoogleDrive(gauth)  \n"
   ]
  },
  {
   "cell_type": "code",
   "execution_count": 41,
   "metadata": {},
   "outputs": [],
   "source": [
    "# upload_file_list = ['dependents.csv']\n",
    "upload_file_list = ['log_bg.csv']\n",
    "\n",
    "for upload_file in upload_file_list:\n",
    "\tgfile = drive.CreateFile({'parents': [{'id': '11AbSXVZ-r-8fA6jCnPFoWMUMpyntBJD8'}],'title':'testing_html.html'})\n",
    "\t# Read file and set it as the content of this instance.\n",
    "\t# gfile.SetContentFile(upload_file)\n",
    "\tgfile.SetContentString('<h1>HOHOHOHO</h1><br><h2>LOLOL</h2>')\n",
    "\tgfile.Upload() # Upload the file."
   ]
  },
  {
   "cell_type": "code",
   "execution_count": 33,
   "metadata": {},
   "outputs": [],
   "source": [
    "gfile.GetContentFile('test.csv')"
   ]
  },
  {
   "cell_type": "code",
   "execution_count": 12,
   "metadata": {},
   "outputs": [],
   "source": [
    "lol = gfile.GetContentString()"
   ]
  },
  {
   "cell_type": "code",
   "execution_count": 32,
   "metadata": {},
   "outputs": [],
   "source": [
    "gfile.FetchMetadata()"
   ]
  },
  {
   "cell_type": "code",
   "execution_count": 39,
   "metadata": {},
   "outputs": [],
   "source": [
    "file1 = drive.CreateFile({'title': 'Hello.html'})  # Create GoogleDriveFile instance with title 'Hello.txt'.\n",
    "file1.SetContentString('<h1>HOHOHOHO<h1>') # Set content of the file from given string.\n",
    "file1.Upload()"
   ]
  }
 ],
 "metadata": {
  "interpreter": {
   "hash": "ae6205c1e8c8e8afa0818e52c169261e5b27703eb5b5e846a824bdf0e97d5a00"
  },
  "kernelspec": {
   "display_name": "Python 3.8.3 ('base')",
   "language": "python",
   "name": "python3"
  },
  "language_info": {
   "codemirror_mode": {
    "name": "ipython",
    "version": 3
   },
   "file_extension": ".py",
   "mimetype": "text/x-python",
   "name": "python",
   "nbconvert_exporter": "python",
   "pygments_lexer": "ipython3",
   "version": "3.9.5"
  },
  "orig_nbformat": 4
 },
 "nbformat": 4,
 "nbformat_minor": 2
}
