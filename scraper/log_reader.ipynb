{
 "cells": [
  {
   "cell_type": "code",
   "execution_count": 10,
   "metadata": {},
   "outputs": [],
   "source": [
    "import pydrive\n",
    "import pandas as pd\n",
    "\n",
    "# from pydrive.auth import GoogleAuth\n",
    "# from pydrive.drive import GoogleDrive\n",
    "# gauth = GoogleAuth()           \n",
    "# drive = GoogleDrive(gauth)  "
   ]
  },
  {
   "cell_type": "code",
   "execution_count": 11,
   "metadata": {},
   "outputs": [],
   "source": [
    "# log_df = pd.read_csv('logs/log_2022-03-19-09_37_01.426590.csv')"
   ]
  },
  {
   "cell_type": "code",
   "execution_count": 12,
   "metadata": {},
   "outputs": [],
   "source": [
    "# hits = log_df.hit\n",
    "# hit = hits[0]\n",
    "# eval(hit)"
   ]
  },
  {
   "cell_type": "code",
   "execution_count": 13,
   "metadata": {},
   "outputs": [
    {
     "name": "stdout",
     "output_type": "stream",
     "text": [
      "unique gvkeys = 3414\n"
     ]
    }
   ],
   "source": [
    "import pandas as pd\n",
    "from pathlib import Path\n",
    "import sys\n",
    "\n",
    "import pandas as pd\n",
    "import time\n",
    "\n",
    "sys.path.append(r'C:\\Users\\User\\OneDrive\\Desktop\\Code\\msba_edgar')\n",
    "from ut_msba_edgar_scraper import Downloader\n",
    "from ut_msba_edgar_scraper.msba_utils import get_ratings_df\n",
    "ratings_df = get_ratings_df() # this is our scraping universe\n",
    "gvkeys = ratings_df['gvkey'].unique()\n",
    "print(f'unique gvkeys = {len(gvkeys)}')"
   ]
  },
  {
   "cell_type": "code",
   "execution_count": 14,
   "metadata": {},
   "outputs": [],
   "source": [
    "# df_master_log.columns"
   ]
  },
  {
   "cell_type": "code",
   "execution_count": 15,
   "metadata": {},
   "outputs": [
    {
     "name": "stderr",
     "output_type": "stream",
     "text": [
      "C:\\Users\\User\\AppData\\Local\\Programs\\Python\\Python39\\lib\\site-packages\\IPython\\core\\interactiveshell.py:3361: DtypeWarning: Columns (16) have mixed types.Specify dtype option on import or set low_memory=False.\n",
      "  if (await self.run_code(code, result,  async_=asy)):\n"
     ]
    }
   ],
   "source": [
    "def read_master_log():\n",
    "    df = pd.read_csv('logs/master_log.csv')\n",
    "    df['gvkey'] = df['gvkey'].astype(str)\n",
    "    return df.iloc[:,1:].copy()\n",
    "\n",
    "df_master_log = read_master_log()"
   ]
  },
  {
   "cell_type": "code",
   "execution_count": 16,
   "metadata": {},
   "outputs": [
    {
     "data": {
      "text/plain": [
       "0          True\n",
       "1          True\n",
       "2          True\n",
       "3          True\n",
       "4          True\n",
       "          ...  \n",
       "329181    False\n",
       "329182    False\n",
       "329183    False\n",
       "329184    False\n",
       "329185    False\n",
       "Name: gvkey, Length: 328959, dtype: bool"
      ]
     },
     "execution_count": 16,
     "metadata": {},
     "output_type": "execute_result"
    }
   ],
   "source": [
    "ratings_df.gvkey.isin(df_master_log.gvkey.values)"
   ]
  },
  {
   "cell_type": "code",
   "execution_count": 17,
   "metadata": {},
   "outputs": [],
   "source": [
    "import numpy as np"
   ]
  },
  {
   "cell_type": "code",
   "execution_count": 18,
   "metadata": {},
   "outputs": [],
   "source": [
    "last_key = df_master_log.iloc[-1].gvkey"
   ]
  },
  {
   "cell_type": "code",
   "execution_count": 19,
   "metadata": {},
   "outputs": [],
   "source": [
    "gvkeys = ratings_df.gvkey.unique()"
   ]
  },
  {
   "cell_type": "code",
   "execution_count": 20,
   "metadata": {},
   "outputs": [
    {
     "data": {
      "text/plain": [
       "125094"
      ]
     },
     "execution_count": 20,
     "metadata": {},
     "output_type": "execute_result"
    }
   ],
   "source": [
    "125094"
   ]
  },
  {
   "cell_type": "code",
   "execution_count": 21,
   "metadata": {},
   "outputs": [
    {
     "data": {
      "text/plain": [
       "array(['160225', '160233', '160255', '160272', '160282', '160329',\n",
       "       '160341', '160533', '160541', '160570', '160580', '160598',\n",
       "       '160601', '160630', '160632', '160661', '160670', '160681',\n",
       "       '160682', '160683', '160684', '160718', '160719', '160838',\n",
       "       '160861', '160865', '160874', '160892', '160893', '160912',\n",
       "       '160949', '160958', '160990', '160991', '161000', '161013',\n",
       "       '161036', '161039', '161048', '161056', '161064', '161072',\n",
       "       '161075', '161120', '161844', '161877', '161953', '161966',\n",
       "       '161994', '162076', '162127', '162129', '162160', '162198',\n",
       "       '162264', '162272', '162283', '162336', '162385', '162401',\n",
       "       '162448', '162459', '162586', '162610', '162733', '162739',\n",
       "       '162796', '162894', '162897', '162909', '162928', '163036',\n",
       "       '163042', '163113', '163118', '163124', '163429', '163586',\n",
       "       '163610', '163627', '163629', '163669', '163680', '163765',\n",
       "       '163768', '163772', '163877', '163879', '163890', '163916',\n",
       "       '163921', '163935', '163939', '163948', '163963', '163983',\n",
       "       '163984', '164001', '164002', '164058', '164099', '164132',\n",
       "       '164247', '164271', '164296', '164408', '164422', '164433',\n",
       "       '164494', '164506', '164543', '164606', '164607', '164660',\n",
       "       '164661', '164668', '164708', '164756', '164758', '165052',\n",
       "       '165123', '165164', '165252', '165264', '165358', '165360',\n",
       "       '165371', '165414', '165466', '165556', '165640', '165649',\n",
       "       '165652', '165653', '165675', '165699', '165702', '165731',\n",
       "       '165734', '165746', '165844', '165845', '165846', '165855',\n",
       "       '165856', '165909', '165993', '166061', '166199', '166208',\n",
       "       '166357', '166381', '166433', '166436', '166451', '166458',\n",
       "       '166482', '166554', '166562', '166593', '166705', '166746',\n",
       "       '170297', '170375', '170384', '170418', '170527', '170620',\n",
       "       '170639', '170748', '170750', '170781', '170791', '170841',\n",
       "       '170965', '171023', '171049', '171059', '171078', '171139',\n",
       "       '174022', '174049', '174108', '174130', '174169', '174183',\n",
       "       '174222', '174265', '174317', '174490', '174656', '174703',\n",
       "       '174729', '174875', '175006', '175007', '175087', '175092',\n",
       "       '175157', '175263', '175308', '175319', '175343', '175399',\n",
       "       '175426', '175510', '175739', '175741', '175834', '175900',\n",
       "       '175903', '175995', '176040', '176070', '176096', '176239',\n",
       "       '176248', '176249', '176268', '176282', '176404', '176523',\n",
       "       '176590', '176595', '176639', '176659', '176760', '176833',\n",
       "       '176872', '176899', '176914', '176928', '176939', '177088',\n",
       "       '177108', '177109', '177124', '177216', '177225', '177288',\n",
       "       '177303', '177376', '177397', '177405', '177429', '177637',\n",
       "       '177697', '177739', '177745', '177782', '177827', '177882',\n",
       "       '177884', '177896', '177953', '177966', '178201', '178453',\n",
       "       '178507', '178529', '178538', '178539', '178540', '178543',\n",
       "       '178568', '178608', '178610', '178633', '178684', '178798',\n",
       "       '178814', '178851', '178855', '178863', '178870', '178921',\n",
       "       '179027', '179077', '179094', '179110', '179236', '179437',\n",
       "       '179534', '179577', '179621', '179657', '179690', '179707',\n",
       "       '179741', '179782', '179819', '179831', '179925', '180016',\n",
       "       '180029', '180145', '180167', '180193', '180272', '180395',\n",
       "       '180402', '180405', '180483', '180652', '180659', '180833',\n",
       "       '181104', '181269', '181745', '181904', '181931', '181989',\n",
       "       '182116', '182350', '182701', '182788', '183257', '183366',\n",
       "       '183388', '183570', '183581', '183635', '183640', '183684',\n",
       "       '183995', '184035', '184040', '184058', '184254', '184258',\n",
       "       '184262', '184287', '184323', '184442', '184449', '184498',\n",
       "       '184500', '184536', '184537', '184619', '184676', '184700',\n",
       "       '184748', '184785', '184796', '184807', '184868', '184880',\n",
       "       '184899', '184954', '184996', '185018', '185179', '185277',\n",
       "       '185334', '185337', '185344', '185363', '185370', '185375',\n",
       "       '185429', '185532', '185549', '185584', '185618', '185624',\n",
       "       '185645', '185654', '185797', '185894', '185952', '185953',\n",
       "       '185980', '186139', '186206', '186276', '186278', '186310',\n",
       "       '186311', '186342', '186392', '186431', '186452', '186497',\n",
       "       '186501', '186773', '186783', '186858', '186960', '186989',\n",
       "       '187075', '187084', '187128', '187215', '187255', '187406',\n",
       "       '187491', '187529', '187690', '187698', '187740', '187774',\n",
       "       '187812', '187814', '187833', '187855', '187961', '188255',\n",
       "       '188663', '189459', '189462', '189490', '189491', '189517',\n",
       "       '189593', '190957', '191255', '192255', '194755', '194956',\n",
       "       '197559', '199456', '259837', '260086', '260298', '260408',\n",
       "       '260583', '260778', '260996', '261215', '263562', '264386',\n",
       "       '264388', '264509', '265008', '265188', '266163', '266257',\n",
       "       '266315', '285536', '311524'], dtype=object)"
      ]
     },
     "execution_count": 21,
     "metadata": {},
     "output_type": "execute_result"
    }
   ],
   "source": [
    "gvkeys[np.where(gvkeys==last_key)[0][0]:]"
   ]
  },
  {
   "cell_type": "code",
   "execution_count": 22,
   "metadata": {},
   "outputs": [
    {
     "data": {
      "text/plain": [
       "2973"
      ]
     },
     "execution_count": 22,
     "metadata": {},
     "output_type": "execute_result"
    }
   ],
   "source": [
    "np.where(gvkeys==last_key)[0][0]"
   ]
  },
  {
   "cell_type": "code",
   "execution_count": 23,
   "metadata": {},
   "outputs": [
    {
     "data": {
      "text/html": [
       "<div>\n",
       "<style scoped>\n",
       "    .dataframe tbody tr th:only-of-type {\n",
       "        vertical-align: middle;\n",
       "    }\n",
       "\n",
       "    .dataframe tbody tr th {\n",
       "        vertical-align: top;\n",
       "    }\n",
       "\n",
       "    .dataframe thead th {\n",
       "        text-align: right;\n",
       "    }\n",
       "</style>\n",
       "<table border=\"1\" class=\"dataframe\">\n",
       "  <thead>\n",
       "    <tr style=\"text-align: right;\">\n",
       "      <th></th>\n",
       "      <th>gvkey</th>\n",
       "      <th>splticrm</th>\n",
       "      <th>datadate</th>\n",
       "      <th>cik</th>\n",
       "      <th>fic</th>\n",
       "      <th>gsector</th>\n",
       "      <th>loc</th>\n",
       "      <th>tic</th>\n",
       "    </tr>\n",
       "  </thead>\n",
       "  <tbody>\n",
       "    <tr>\n",
       "      <th>0</th>\n",
       "      <td>1004</td>\n",
       "      <td>BBB</td>\n",
       "      <td>2000-01-31</td>\n",
       "      <td>1750</td>\n",
       "      <td>USA</td>\n",
       "      <td>20.0</td>\n",
       "      <td>USA</td>\n",
       "      <td>AIR</td>\n",
       "    </tr>\n",
       "    <tr>\n",
       "      <th>1</th>\n",
       "      <td>1004</td>\n",
       "      <td>BBB</td>\n",
       "      <td>2000-02-29</td>\n",
       "      <td>1750</td>\n",
       "      <td>USA</td>\n",
       "      <td>20.0</td>\n",
       "      <td>USA</td>\n",
       "      <td>AIR</td>\n",
       "    </tr>\n",
       "    <tr>\n",
       "      <th>2</th>\n",
       "      <td>1004</td>\n",
       "      <td>BBB</td>\n",
       "      <td>2000-03-31</td>\n",
       "      <td>1750</td>\n",
       "      <td>USA</td>\n",
       "      <td>20.0</td>\n",
       "      <td>USA</td>\n",
       "      <td>AIR</td>\n",
       "    </tr>\n",
       "    <tr>\n",
       "      <th>3</th>\n",
       "      <td>1004</td>\n",
       "      <td>BBB</td>\n",
       "      <td>2000-04-30</td>\n",
       "      <td>1750</td>\n",
       "      <td>USA</td>\n",
       "      <td>20.0</td>\n",
       "      <td>USA</td>\n",
       "      <td>AIR</td>\n",
       "    </tr>\n",
       "    <tr>\n",
       "      <th>4</th>\n",
       "      <td>1004</td>\n",
       "      <td>BBB</td>\n",
       "      <td>2000-05-31</td>\n",
       "      <td>1750</td>\n",
       "      <td>USA</td>\n",
       "      <td>20.0</td>\n",
       "      <td>USA</td>\n",
       "      <td>AIR</td>\n",
       "    </tr>\n",
       "    <tr>\n",
       "      <th>...</th>\n",
       "      <td>...</td>\n",
       "      <td>...</td>\n",
       "      <td>...</td>\n",
       "      <td>...</td>\n",
       "      <td>...</td>\n",
       "      <td>...</td>\n",
       "      <td>...</td>\n",
       "      <td>...</td>\n",
       "    </tr>\n",
       "    <tr>\n",
       "      <th>302144</th>\n",
       "      <td>160225</td>\n",
       "      <td>A</td>\n",
       "      <td>2016-10-31</td>\n",
       "      <td>1141391</td>\n",
       "      <td>USA</td>\n",
       "      <td>45.0</td>\n",
       "      <td>USA</td>\n",
       "      <td>MA</td>\n",
       "    </tr>\n",
       "    <tr>\n",
       "      <th>302145</th>\n",
       "      <td>160225</td>\n",
       "      <td>A</td>\n",
       "      <td>2016-11-30</td>\n",
       "      <td>1141391</td>\n",
       "      <td>USA</td>\n",
       "      <td>45.0</td>\n",
       "      <td>USA</td>\n",
       "      <td>MA</td>\n",
       "    </tr>\n",
       "    <tr>\n",
       "      <th>302146</th>\n",
       "      <td>160225</td>\n",
       "      <td>A</td>\n",
       "      <td>2016-12-31</td>\n",
       "      <td>1141391</td>\n",
       "      <td>USA</td>\n",
       "      <td>45.0</td>\n",
       "      <td>USA</td>\n",
       "      <td>MA</td>\n",
       "    </tr>\n",
       "    <tr>\n",
       "      <th>302147</th>\n",
       "      <td>160225</td>\n",
       "      <td>A</td>\n",
       "      <td>2017-01-31</td>\n",
       "      <td>1141391</td>\n",
       "      <td>USA</td>\n",
       "      <td>45.0</td>\n",
       "      <td>USA</td>\n",
       "      <td>MA</td>\n",
       "    </tr>\n",
       "    <tr>\n",
       "      <th>302148</th>\n",
       "      <td>160225</td>\n",
       "      <td>A</td>\n",
       "      <td>2017-02-28</td>\n",
       "      <td>1141391</td>\n",
       "      <td>USA</td>\n",
       "      <td>45.0</td>\n",
       "      <td>USA</td>\n",
       "      <td>MA</td>\n",
       "    </tr>\n",
       "  </tbody>\n",
       "</table>\n",
       "<p>186045 rows × 8 columns</p>\n",
       "</div>"
      ],
      "text/plain": [
       "         gvkey splticrm   datadate      cik  fic  gsector  loc  tic\n",
       "0         1004      BBB 2000-01-31     1750  USA     20.0  USA  AIR\n",
       "1         1004      BBB 2000-02-29     1750  USA     20.0  USA  AIR\n",
       "2         1004      BBB 2000-03-31     1750  USA     20.0  USA  AIR\n",
       "3         1004      BBB 2000-04-30     1750  USA     20.0  USA  AIR\n",
       "4         1004      BBB 2000-05-31     1750  USA     20.0  USA  AIR\n",
       "...        ...      ...        ...      ...  ...      ...  ...  ...\n",
       "302144  160225        A 2016-10-31  1141391  USA     45.0  USA   MA\n",
       "302145  160225        A 2016-11-30  1141391  USA     45.0  USA   MA\n",
       "302146  160225        A 2016-12-31  1141391  USA     45.0  USA   MA\n",
       "302147  160225        A 2017-01-31  1141391  USA     45.0  USA   MA\n",
       "302148  160225        A 2017-02-28  1141391  USA     45.0  USA   MA\n",
       "\n",
       "[186045 rows x 8 columns]"
      ]
     },
     "execution_count": 23,
     "metadata": {},
     "output_type": "execute_result"
    }
   ],
   "source": [
    "# ratings_df = get_ratings_df()\n",
    "ratings_df[ratings_df.gvkey.isin(df_master_log.gvkey.values)]"
   ]
  },
  {
   "cell_type": "code",
   "execution_count": 24,
   "metadata": {},
   "outputs": [
    {
     "data": {
      "text/html": [
       "<div>\n",
       "<style scoped>\n",
       "    .dataframe tbody tr th:only-of-type {\n",
       "        vertical-align: middle;\n",
       "    }\n",
       "\n",
       "    .dataframe tbody tr th {\n",
       "        vertical-align: top;\n",
       "    }\n",
       "\n",
       "    .dataframe thead th {\n",
       "        text-align: right;\n",
       "    }\n",
       "</style>\n",
       "<table border=\"1\" class=\"dataframe\">\n",
       "  <thead>\n",
       "    <tr style=\"text-align: right;\">\n",
       "      <th></th>\n",
       "      <th>gvkey</th>\n",
       "      <th>splticrm</th>\n",
       "      <th>datadate</th>\n",
       "      <th>cik</th>\n",
       "      <th>fic</th>\n",
       "      <th>gsector</th>\n",
       "      <th>loc</th>\n",
       "      <th>tic</th>\n",
       "    </tr>\n",
       "  </thead>\n",
       "  <tbody>\n",
       "    <tr>\n",
       "      <th>0</th>\n",
       "      <td>1004</td>\n",
       "      <td>BBB</td>\n",
       "      <td>2000-01-31</td>\n",
       "      <td>1750</td>\n",
       "      <td>USA</td>\n",
       "      <td>20.0</td>\n",
       "      <td>USA</td>\n",
       "      <td>AIR</td>\n",
       "    </tr>\n",
       "    <tr>\n",
       "      <th>1</th>\n",
       "      <td>1004</td>\n",
       "      <td>BBB</td>\n",
       "      <td>2000-02-29</td>\n",
       "      <td>1750</td>\n",
       "      <td>USA</td>\n",
       "      <td>20.0</td>\n",
       "      <td>USA</td>\n",
       "      <td>AIR</td>\n",
       "    </tr>\n",
       "    <tr>\n",
       "      <th>2</th>\n",
       "      <td>1004</td>\n",
       "      <td>BBB</td>\n",
       "      <td>2000-03-31</td>\n",
       "      <td>1750</td>\n",
       "      <td>USA</td>\n",
       "      <td>20.0</td>\n",
       "      <td>USA</td>\n",
       "      <td>AIR</td>\n",
       "    </tr>\n",
       "    <tr>\n",
       "      <th>3</th>\n",
       "      <td>1004</td>\n",
       "      <td>BBB</td>\n",
       "      <td>2000-04-30</td>\n",
       "      <td>1750</td>\n",
       "      <td>USA</td>\n",
       "      <td>20.0</td>\n",
       "      <td>USA</td>\n",
       "      <td>AIR</td>\n",
       "    </tr>\n",
       "    <tr>\n",
       "      <th>4</th>\n",
       "      <td>1004</td>\n",
       "      <td>BBB</td>\n",
       "      <td>2000-05-31</td>\n",
       "      <td>1750</td>\n",
       "      <td>USA</td>\n",
       "      <td>20.0</td>\n",
       "      <td>USA</td>\n",
       "      <td>AIR</td>\n",
       "    </tr>\n",
       "    <tr>\n",
       "      <th>...</th>\n",
       "      <td>...</td>\n",
       "      <td>...</td>\n",
       "      <td>...</td>\n",
       "      <td>...</td>\n",
       "      <td>...</td>\n",
       "      <td>...</td>\n",
       "      <td>...</td>\n",
       "      <td>...</td>\n",
       "    </tr>\n",
       "    <tr>\n",
       "      <th>329181</th>\n",
       "      <td>311524</td>\n",
       "      <td>B+</td>\n",
       "      <td>2014-07-31</td>\n",
       "      <td>1547063</td>\n",
       "      <td>USA</td>\n",
       "      <td>15.0</td>\n",
       "      <td>USA</td>\n",
       "      <td>TAM</td>\n",
       "    </tr>\n",
       "    <tr>\n",
       "      <th>329182</th>\n",
       "      <td>311524</td>\n",
       "      <td>B+</td>\n",
       "      <td>2014-08-31</td>\n",
       "      <td>1547063</td>\n",
       "      <td>USA</td>\n",
       "      <td>15.0</td>\n",
       "      <td>USA</td>\n",
       "      <td>TAM</td>\n",
       "    </tr>\n",
       "    <tr>\n",
       "      <th>329183</th>\n",
       "      <td>311524</td>\n",
       "      <td>B+</td>\n",
       "      <td>2014-09-30</td>\n",
       "      <td>1547063</td>\n",
       "      <td>USA</td>\n",
       "      <td>15.0</td>\n",
       "      <td>USA</td>\n",
       "      <td>TAM</td>\n",
       "    </tr>\n",
       "    <tr>\n",
       "      <th>329184</th>\n",
       "      <td>311524</td>\n",
       "      <td>B+</td>\n",
       "      <td>2014-10-31</td>\n",
       "      <td>1547063</td>\n",
       "      <td>USA</td>\n",
       "      <td>15.0</td>\n",
       "      <td>USA</td>\n",
       "      <td>TAM</td>\n",
       "    </tr>\n",
       "    <tr>\n",
       "      <th>329185</th>\n",
       "      <td>311524</td>\n",
       "      <td>B+</td>\n",
       "      <td>2014-11-30</td>\n",
       "      <td>1547063</td>\n",
       "      <td>USA</td>\n",
       "      <td>15.0</td>\n",
       "      <td>USA</td>\n",
       "      <td>TAM</td>\n",
       "    </tr>\n",
       "  </tbody>\n",
       "</table>\n",
       "<p>328959 rows × 8 columns</p>\n",
       "</div>"
      ],
      "text/plain": [
       "         gvkey splticrm   datadate      cik  fic  gsector  loc  tic\n",
       "0         1004      BBB 2000-01-31     1750  USA     20.0  USA  AIR\n",
       "1         1004      BBB 2000-02-29     1750  USA     20.0  USA  AIR\n",
       "2         1004      BBB 2000-03-31     1750  USA     20.0  USA  AIR\n",
       "3         1004      BBB 2000-04-30     1750  USA     20.0  USA  AIR\n",
       "4         1004      BBB 2000-05-31     1750  USA     20.0  USA  AIR\n",
       "...        ...      ...        ...      ...  ...      ...  ...  ...\n",
       "329181  311524       B+ 2014-07-31  1547063  USA     15.0  USA  TAM\n",
       "329182  311524       B+ 2014-08-31  1547063  USA     15.0  USA  TAM\n",
       "329183  311524       B+ 2014-09-30  1547063  USA     15.0  USA  TAM\n",
       "329184  311524       B+ 2014-10-31  1547063  USA     15.0  USA  TAM\n",
       "329185  311524       B+ 2014-11-30  1547063  USA     15.0  USA  TAM\n",
       "\n",
       "[328959 rows x 8 columns]"
      ]
     },
     "execution_count": 24,
     "metadata": {},
     "output_type": "execute_result"
    }
   ],
   "source": [
    "ratings_df"
   ]
  },
  {
   "cell_type": "code",
   "execution_count": 25,
   "metadata": {},
   "outputs": [
    {
     "data": {
      "text/plain": [
       "array(['1004', '1004', '1004', ..., '160225', '160225', '160225'],\n",
       "      dtype=object)"
      ]
     },
     "execution_count": 25,
     "metadata": {},
     "output_type": "execute_result"
    }
   ],
   "source": [
    "df_master_log.gvkey.values"
   ]
  },
  {
   "cell_type": "code",
   "execution_count": 26,
   "metadata": {},
   "outputs": [],
   "source": [
    "import numpy as np"
   ]
  },
  {
   "cell_type": "code",
   "execution_count": 34,
   "metadata": {},
   "outputs": [
    {
     "data": {
      "text/plain": [
       "array([1.])"
      ]
     },
     "execution_count": 34,
     "metadata": {},
     "output_type": "execute_result"
    }
   ],
   "source": [
    "(np.where('311524'==gvkeys)[0]+1)/len(gvkeys)"
   ]
  }
 ],
 "metadata": {
  "interpreter": {
   "hash": "ae6205c1e8c8e8afa0818e52c169261e5b27703eb5b5e846a824bdf0e97d5a00"
  },
  "kernelspec": {
   "display_name": "Python 3.8.3 ('base')",
   "language": "python",
   "name": "python3"
  },
  "language_info": {
   "codemirror_mode": {
    "name": "ipython",
    "version": 3
   },
   "file_extension": ".py",
   "mimetype": "text/x-python",
   "name": "python",
   "nbconvert_exporter": "python",
   "pygments_lexer": "ipython3",
   "version": "3.9.5"
  },
  "orig_nbformat": 4
 },
 "nbformat": 4,
 "nbformat_minor": 2
}
